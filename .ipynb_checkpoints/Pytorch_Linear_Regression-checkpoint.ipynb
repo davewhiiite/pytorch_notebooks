{
 "cells": [
  {
   "cell_type": "code",
   "execution_count": 24,
   "metadata": {},
   "outputs": [],
   "source": [
    "import torch\n",
    "import torch.nn as nn\n",
    "import matplotlib.pyplot as plt\n",
    "import numpy as np"
   ]
  },
  {
   "cell_type": "code",
   "execution_count": 15,
   "metadata": {},
   "outputs": [
    {
     "data": {
      "text/plain": [
       "Text(0.5, 0, 'X')"
      ]
     },
     "execution_count": 15,
     "metadata": {},
     "output_type": "execute_result"
    },
    {
     "data": {
      "image/png": "[encoded data removed]",
      "text/plain": [
       "<Figure size 432x288 with 1 Axes>"
      ]
     },
     "metadata": {
      "needs_background": "light"
     },
     "output_type": "display_data"
    }
   ],
   "source": [
    "X = torch.randn(100, 1)*10\n",
    "y = X + 3*torch.randn(100, 1)\n",
    "plt.plot(X.numpy(), y.numpy(), 'o')\n",
    "plt.ylabel('y')\n",
    "plt.xlabel('X')"
   ]
  },
  {
   "cell_type": "code",
   "execution_count": 16,
   "metadata": {},
   "outputs": [],
   "source": [
    "class LR(nn.Module):\n",
    "    def __init__(self, input_size, output_size):\n",
    "        super().__init__()\n",
    "        self.linear = nn.Linear(input_size, output_size)\n",
    "    def forward(self, x):\n",
    "        pred = self.linear(x)\n",
    "        return pred"
   ]
  },
  {
   "cell_type": "code",
   "execution_count": 17,
   "metadata": {},
   "outputs": [
    {
     "name": "stdout",
     "output_type": "stream",
     "text": [
      "[Parameter containing:\n",
      "tensor([[0.5153]], requires_grad=True), Parameter containing:\n",
      "tensor([-0.4414], requires_grad=True)]\n"
     ]
    }
   ],
   "source": [
    "torch.manual_seed(1)\n",
    "model = LR(1, 1)\n",
    "print(list(model.parameters()))"
   ]
  },
  {
   "cell_type": "code",
   "execution_count": 36,
   "metadata": {},
   "outputs": [],
   "source": [
    "[w, b] = model.parameters()\n",
    "def get_params():\n",
    "    return(w[0][0].item(), b[0].item())"
   ]
  },
  {
   "cell_type": "code",
   "execution_count": 37,
   "metadata": {},
   "outputs": [],
   "source": [
    "def plot_fit(title):\n",
    "    plt.title = title\n",
    "    w1, b1 = get_params()\n",
    "    x1 = np.array([-30, 30])\n",
    "    y1 = w1*x1 + b1\n",
    "    plt.plot(x1, y1, 'r')\n",
    "    plt.scatter(X, y)\n",
    "    plt.show()"
   ]
  },
  {
   "cell_type": "code",
   "execution_count": 38,
   "metadata": {},
   "outputs": [
    {
     "data": {
      "image/png": "[encoded data removed]",
      "text/plain": [
       "<Figure size 432x288 with 1 Axes>"
      ]
     },
     "metadata": {
      "needs_background": "light"
     },
     "output_type": "display_data"
    }
   ],
   "source": [
    "plot_fit('Initial Mode')"
   ]
  },
  {
   "cell_type": "code",
   "execution_count": 40,
   "metadata": {},
   "outputs": [],
   "source": [
    "criterion = nn.MSELoss()\n",
    "optimizer = torch.optim.SGD(model.parameters(), lr = 0.01) #Stochastic gradient descent = fast method of getting gradient"
   ]
  },
  {
   "cell_type": "code",
   "execution_count": 42,
   "metadata": {},
   "outputs": [
    {
     "name": "stdout",
     "output_type": "stream",
     "text": [
      "epoch: 0 loss: 10.330838203430176\n",
      "epoch: 1 loss: 10.31588363647461\n",
      "epoch: 2 loss: 10.301569938659668\n",
      "epoch: 3 loss: 10.287867546081543\n",
      "epoch: 4 loss: 10.274751663208008\n",
      "epoch: 5 loss: 10.26219654083252\n",
      "epoch: 6 loss: 10.250179290771484\n",
      "epoch: 7 loss: 10.238675117492676\n",
      "epoch: 8 loss: 10.22766399383545\n",
      "epoch: 9 loss: 10.217123031616211\n",
      "epoch: 10 loss: 10.207033157348633\n",
      "epoch: 11 loss: 10.19737434387207\n",
      "epoch: 12 loss: 10.188129425048828\n",
      "epoch: 13 loss: 10.179280281066895\n",
      "epoch: 14 loss: 10.170808792114258\n",
      "epoch: 15 loss: 10.162699699401855\n",
      "epoch: 16 loss: 10.154936790466309\n",
      "epoch: 17 loss: 10.147507667541504\n",
      "epoch: 18 loss: 10.140396118164062\n",
      "epoch: 19 loss: 10.133587837219238\n",
      "epoch: 20 loss: 10.12707233428955\n",
      "epoch: 21 loss: 10.120833396911621\n",
      "epoch: 22 loss: 10.114862442016602\n",
      "epoch: 23 loss: 10.109145164489746\n",
      "epoch: 24 loss: 10.103673934936523\n",
      "epoch: 25 loss: 10.09843635559082\n",
      "epoch: 26 loss: 10.093422889709473\n",
      "epoch: 27 loss: 10.088623046875\n",
      "epoch: 28 loss: 10.084029197692871\n",
      "epoch: 29 loss: 10.079632759094238\n",
      "epoch: 30 loss: 10.075423240661621\n",
      "epoch: 31 loss: 10.071393966674805\n",
      "epoch: 32 loss: 10.067537307739258\n",
      "epoch: 33 loss: 10.06384563446045\n",
      "epoch: 34 loss: 10.060311317443848\n",
      "epoch: 35 loss: 10.056927680969238\n",
      "epoch: 36 loss: 10.053689956665039\n",
      "epoch: 37 loss: 10.050590515136719\n",
      "epoch: 38 loss: 10.047623634338379\n",
      "epoch: 39 loss: 10.044781684875488\n",
      "epoch: 40 loss: 10.042062759399414\n",
      "epoch: 41 loss: 10.039460182189941\n",
      "epoch: 42 loss: 10.036969184875488\n",
      "epoch: 43 loss: 10.034584999084473\n",
      "epoch: 44 loss: 10.032301902770996\n",
      "epoch: 45 loss: 10.030116081237793\n",
      "epoch: 46 loss: 10.028023719787598\n",
      "epoch: 47 loss: 10.026021957397461\n",
      "epoch: 48 loss: 10.024105072021484\n",
      "epoch: 49 loss: 10.022270202636719\n",
      "epoch: 50 loss: 10.020514488220215\n",
      "epoch: 51 loss: 10.01883316040039\n",
      "epoch: 52 loss: 10.017223358154297\n",
      "epoch: 53 loss: 10.0156831741333\n",
      "epoch: 54 loss: 10.014208793640137\n",
      "epoch: 55 loss: 10.012797355651855\n",
      "epoch: 56 loss: 10.011445045471191\n",
      "epoch: 57 loss: 10.010152816772461\n",
      "epoch: 58 loss: 10.00891399383545\n",
      "epoch: 59 loss: 10.007728576660156\n",
      "epoch: 60 loss: 10.006593704223633\n",
      "epoch: 61 loss: 10.005508422851562\n",
      "epoch: 62 loss: 10.004467964172363\n",
      "epoch: 63 loss: 10.003473281860352\n",
      "epoch: 64 loss: 10.002520561218262\n",
      "epoch: 65 loss: 10.001608848571777\n",
      "epoch: 66 loss: 10.00073528289795\n",
      "epoch: 67 loss: 9.999900817871094\n",
      "epoch: 68 loss: 9.999100685119629\n",
      "epoch: 69 loss: 9.998334884643555\n",
      "epoch: 70 loss: 9.997602462768555\n",
      "epoch: 71 loss: 9.996899604797363\n",
      "epoch: 72 loss: 9.99622917175293\n",
      "epoch: 73 loss: 9.995585441589355\n",
      "epoch: 74 loss: 9.994969367980957\n",
      "epoch: 75 loss: 9.994380950927734\n",
      "epoch: 76 loss: 9.993817329406738\n",
      "epoch: 77 loss: 9.993277549743652\n",
      "epoch: 78 loss: 9.99276065826416\n",
      "epoch: 79 loss: 9.992265701293945\n",
      "epoch: 80 loss: 9.991791725158691\n",
      "epoch: 81 loss: 9.991338729858398\n",
      "epoch: 82 loss: 9.990904808044434\n",
      "epoch: 83 loss: 9.99048900604248\n",
      "epoch: 84 loss: 9.990091323852539\n",
      "epoch: 85 loss: 9.989710807800293\n",
      "epoch: 86 loss: 9.989346504211426\n",
      "epoch: 87 loss: 9.988998413085938\n",
      "epoch: 88 loss: 9.988663673400879\n",
      "epoch: 89 loss: 9.988344192504883\n",
      "epoch: 90 loss: 9.988038063049316\n",
      "epoch: 91 loss: 9.98774528503418\n",
      "epoch: 92 loss: 9.987464904785156\n",
      "epoch: 93 loss: 9.98719596862793\n",
      "epoch: 94 loss: 9.986939430236816\n",
      "epoch: 95 loss: 9.986693382263184\n",
      "epoch: 96 loss: 9.986458778381348\n",
      "epoch: 97 loss: 9.98623275756836\n",
      "epoch: 98 loss: 9.986017227172852\n",
      "epoch: 99 loss: 9.985810279846191\n",
      "epoch: 100 loss: 9.985612869262695\n",
      "epoch: 101 loss: 9.985424041748047\n",
      "epoch: 102 loss: 9.98524284362793\n",
      "epoch: 103 loss: 9.985069274902344\n",
      "epoch: 104 loss: 9.984903335571289\n",
      "epoch: 105 loss: 9.98474407196045\n",
      "epoch: 106 loss: 9.984591484069824\n",
      "epoch: 107 loss: 9.98444652557373\n",
      "epoch: 108 loss: 9.984306335449219\n",
      "epoch: 109 loss: 9.984173774719238\n",
      "epoch: 110 loss: 9.98404598236084\n",
      "epoch: 111 loss: 9.983922958374023\n",
      "epoch: 112 loss: 9.983805656433105\n",
      "epoch: 113 loss: 9.983694076538086\n",
      "epoch: 114 loss: 9.983586311340332\n",
      "epoch: 115 loss: 9.983484268188477\n",
      "epoch: 116 loss: 9.98338508605957\n",
      "epoch: 117 loss: 9.983291625976562\n",
      "epoch: 118 loss: 9.98320198059082\n",
      "epoch: 119 loss: 9.983115196228027\n",
      "epoch: 120 loss: 9.983033180236816\n",
      "epoch: 121 loss: 9.982954025268555\n",
      "epoch: 122 loss: 9.982878684997559\n",
      "epoch: 123 loss: 9.982805252075195\n",
      "epoch: 124 loss: 9.982736587524414\n",
      "epoch: 125 loss: 9.982669830322266\n",
      "epoch: 126 loss: 9.982606887817383\n",
      "epoch: 127 loss: 9.982544898986816\n",
      "epoch: 128 loss: 9.982486724853516\n",
      "epoch: 129 loss: 9.982431411743164\n",
      "epoch: 130 loss: 9.982378005981445\n",
      "epoch: 131 loss: 9.982327461242676\n",
      "epoch: 132 loss: 9.982277870178223\n",
      "epoch: 133 loss: 9.982231140136719\n",
      "epoch: 134 loss: 9.982186317443848\n",
      "epoch: 135 loss: 9.98214340209961\n",
      "epoch: 136 loss: 9.98210334777832\n",
      "epoch: 137 loss: 9.982063293457031\n",
      "epoch: 138 loss: 9.982025146484375\n",
      "epoch: 139 loss: 9.981989860534668\n",
      "epoch: 140 loss: 9.981954574584961\n",
      "epoch: 141 loss: 9.981922149658203\n",
      "epoch: 142 loss: 9.981889724731445\n",
      "epoch: 143 loss: 9.981860160827637\n",
      "epoch: 144 loss: 9.981830596923828\n",
      "epoch: 145 loss: 9.981802940368652\n",
      "epoch: 146 loss: 9.98177719116211\n",
      "epoch: 147 loss: 9.981751441955566\n",
      "epoch: 148 loss: 9.98172664642334\n",
      "epoch: 149 loss: 9.981703758239746\n",
      "epoch: 150 loss: 9.981681823730469\n",
      "epoch: 151 loss: 9.981659889221191\n",
      "epoch: 152 loss: 9.981639862060547\n",
      "epoch: 153 loss: 9.981619834899902\n",
      "epoch: 154 loss: 9.98160171508789\n",
      "epoch: 155 loss: 9.981583595275879\n",
      "epoch: 156 loss: 9.981566429138184\n",
      "epoch: 157 loss: 9.981549263000488\n",
      "epoch: 158 loss: 9.981534004211426\n",
      "epoch: 159 loss: 9.981518745422363\n",
      "epoch: 160 loss: 9.981504440307617\n",
      "epoch: 161 loss: 9.981491088867188\n",
      "epoch: 162 loss: 9.981477737426758\n",
      "epoch: 163 loss: 9.981464385986328\n",
      "epoch: 164 loss: 9.981452941894531\n",
      "epoch: 165 loss: 9.981441497802734\n",
      "epoch: 166 loss: 9.981430053710938\n",
      "epoch: 167 loss: 9.981419563293457\n",
      "epoch: 168 loss: 9.981409072875977\n",
      "epoch: 169 loss: 9.981399536132812\n",
      "epoch: 170 loss: 9.981389999389648\n",
      "epoch: 171 loss: 9.9813814163208\n",
      "epoch: 172 loss: 9.981372833251953\n",
      "epoch: 173 loss: 9.981364250183105\n",
      "epoch: 174 loss: 9.981356620788574\n",
      "epoch: 175 loss: 9.98134994506836\n",
      "epoch: 176 loss: 9.981342315673828\n",
      "epoch: 177 loss: 9.981335639953613\n",
      "epoch: 178 loss: 9.981328964233398\n",
      "epoch: 179 loss: 9.981322288513184\n",
      "epoch: 180 loss: 9.981316566467285\n",
      "epoch: 181 loss: 9.981310844421387\n",
      "epoch: 182 loss: 9.981306076049805\n",
      "epoch: 183 loss: 9.981300354003906\n",
      "epoch: 184 loss: 9.981294631958008\n",
      "epoch: 185 loss: 9.981290817260742\n",
      "epoch: 186 loss: 9.981285095214844\n",
      "epoch: 187 loss: 9.981281280517578\n",
      "epoch: 188 loss: 9.981276512145996\n",
      "epoch: 189 loss: 9.98127269744873\n",
      "epoch: 190 loss: 9.981268882751465\n",
      "epoch: 191 loss: 9.9812650680542\n",
      "epoch: 192 loss: 9.981261253356934\n",
      "epoch: 193 loss: 9.981258392333984\n",
      "epoch: 194 loss: 9.981254577636719\n",
      "epoch: 195 loss: 9.98125171661377\n",
      "epoch: 196 loss: 9.98124885559082\n",
      "epoch: 197 loss: 9.981245994567871\n",
      "epoch: 198 loss: 9.981243133544922\n",
      "epoch: 199 loss: 9.981240272521973\n"
     ]
    }
   ],
   "source": [
    "epochs = 200\n",
    "losses = []\n",
    "for i in range(epochs):\n",
    "    y_pred = model.forward(X)\n",
    "    loss = criterion(y_pred, y)\n",
    "    print(\"epoch:\", i, \"loss:\", loss.item())\n",
    "    \n",
    "    losses.append(loss)\n",
    "    optimizer.zero_grad()\n",
    "    loss.backward()\n",
    "    optimizer.step()"
   ]
  },
  {
   "cell_type": "code",
   "execution_count": 43,
   "metadata": {},
   "outputs": [
    {
     "data": {
      "text/plain": [
       "Text(0.5, 0, 'Epoch')"
      ]
     },
     "execution_count": 43,
     "metadata": {},
     "output_type": "execute_result"
    },
    {
     "data": {
      "image/png": "[encoded data removed]",
      "text/plain": [
       "<Figure size 432x288 with 1 Axes>"
      ]
     },
     "metadata": {
      "needs_background": "light"
     },
     "output_type": "display_data"
    }
   ],
   "source": [
    "plt.plot(range(epochs), losses)\n",
    "plt.ylabel('Loss')\n",
    "plt.xlabel('Epoch')"
   ]
  },
  {
   "cell_type": "code",
   "execution_count": 44,
   "metadata": {},
   "outputs": [
    {
     "data": {
      "image/png": "[encoded data removed]",
      "text/plain": [
       "<Figure size 432x288 with 1 Axes>"
      ]
     },
     "metadata": {
      "needs_background": "light"
     },
     "output_type": "display_data"
    }
   ],
   "source": [
    "plot_fit('Trained Model')"
   ]
  }
 ],
 "metadata": {
  "kernelspec": {
   "display_name": "Python 3",
   "language": "python",
   "name": "python3"
  },
  "language_info": {
   "codemirror_mode": {
    "name": "ipython",
    "version": 3
   },
   "file_extension": ".py",
   "mimetype": "text/x-python",
   "name": "python",
   "nbconvert_exporter": "python",
   "pygments_lexer": "ipython3",
   "version": "3.7.5"
  }
 },
 "nbformat": 4,
 "nbformat_minor": 2
}
